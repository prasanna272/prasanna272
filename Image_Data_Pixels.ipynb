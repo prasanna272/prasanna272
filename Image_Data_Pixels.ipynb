{
 "cells": [
  {
   "cell_type": "code",
   "execution_count": 1,
   "id": "80c4c968-8d86-4805-ad8c-4348b0fff6be",
   "metadata": {},
   "outputs": [],
   "source": [
    "# Importing the libraries\n",
    "import numpy as np\n",
    "import pandas as pd\n",
    "import matplotlib.pyplot as plt\n",
    "import seaborn as sns\n",
    "\n",
    "import os\n",
    "from PIL import Image"
   ]
  },
  {
   "cell_type": "code",
   "execution_count": 2,
   "id": "8204ed3a-45aa-447e-9f12-aa365cd43652",
   "metadata": {},
   "outputs": [
    {
     "name": "stdout",
     "output_type": "stream",
     "text": [
      "CPU times: total: 1min 23s\n",
      "Wall time: 7min 47s\n"
     ]
    }
   ],
   "source": [
    "%%time\n",
    "import zipfile\n",
    "zip_file_path=r\"C:\\Users\\kolli\\Downloads\\mnist.zip\"\n",
    "extract_path=r\"C:\\Users\\kolli\\Downloads\\mnist\"\n",
    "    \n",
    "# Extract the zip file\n",
    "with zipfile.ZipFile(zip_file_path, 'r') as zip_ref:\n",
    "    zip_ref.extractall(extract_path)"
   ]
  },
  {
   "cell_type": "code",
   "execution_count": 3,
   "id": "4c983557-464e-484b-8dd2-9c6a6646192f",
   "metadata": {},
   "outputs": [
    {
     "name": "stdout",
     "output_type": "stream",
     "text": [
      "Reading images from C:\\Users\\kolli\\Downloads\\mnist, Found 0 files.\n",
      "Reading images from C:\\Users\\kolli\\Downloads\\mnist\\New folder, Found 0 files.\n",
      "Reading images from C:\\Users\\kolli\\Downloads\\mnist\\New folder\\A, Found 13870 files.\n",
      "Reading images from C:\\Users\\kolli\\Downloads\\mnist\\New folder\\B, Found 8668 files.\n",
      "Reading images from C:\\Users\\kolli\\Downloads\\mnist\\New folder\\C, Found 23409 files.\n",
      "Reading images from C:\\Users\\kolli\\Downloads\\mnist\\New folder\\D, Found 10134 files.\n",
      "Reading images from C:\\Users\\kolli\\Downloads\\mnist\\New folder\\E, Found 11440 files.\n",
      "Reading images from C:\\Users\\kolli\\Downloads\\mnist\\New folder\\F, Found 1163 files.\n",
      "Reading images from C:\\Users\\kolli\\Downloads\\mnist\\New folder\\G, Found 5762 files.\n",
      "Reading images from C:\\Users\\kolli\\Downloads\\mnist\\New folder\\H, Found 7218 files.\n",
      "Reading images from C:\\Users\\kolli\\Downloads\\mnist\\New folder\\I, Found 1120 files.\n",
      "Reading images from C:\\Users\\kolli\\Downloads\\mnist\\New folder\\J, Found 8493 files.\n",
      "Reading images from C:\\Users\\kolli\\Downloads\\mnist\\New folder\\K, Found 5603 files.\n",
      "Reading images from C:\\Users\\kolli\\Downloads\\mnist\\New folder\\L, Found 11586 files.\n",
      "Reading images from C:\\Users\\kolli\\Downloads\\mnist\\New folder\\M, Found 12336 files.\n",
      "Reading images from C:\\Users\\kolli\\Downloads\\mnist\\New folder\\N, Found 19010 files.\n",
      "Reading images from C:\\Users\\kolli\\Downloads\\mnist\\New folder\\O, Found 57825 files.\n",
      "Reading images from C:\\Users\\kolli\\Downloads\\mnist\\New folder\\P, Found 19341 files.\n",
      "Reading images from C:\\Users\\kolli\\Downloads\\mnist\\New folder\\Q, Found 5812 files.\n",
      "Reading images from C:\\Users\\kolli\\Downloads\\mnist\\New folder\\R, Found 11566 files.\n",
      "Reading images from C:\\Users\\kolli\\Downloads\\mnist\\New folder\\S, Found 48419 files.\n",
      "Reading images from C:\\Users\\kolli\\Downloads\\mnist\\New folder\\T, Found 22495 files.\n",
      "Reading images from C:\\Users\\kolli\\Downloads\\mnist\\New folder\\U, Found 29008 files.\n",
      "Reading images from C:\\Users\\kolli\\Downloads\\mnist\\New folder\\V, Found 4182 files.\n",
      "Reading images from C:\\Users\\kolli\\Downloads\\mnist\\New folder\\W, Found 10784 files.\n",
      "Reading images from C:\\Users\\kolli\\Downloads\\mnist\\New folder\\X, Found 6272 files.\n",
      "Reading images from C:\\Users\\kolli\\Downloads\\mnist\\New folder\\Y, Found 10859 files.\n",
      "Reading images from C:\\Users\\kolli\\Downloads\\mnist\\New folder\\Z, Found 6076 files.\n",
      "\n",
      "Total Number of Files: 372451\n",
      "File extension: {'.png'}\n"
     ]
    }
   ],
   "source": [
    "file_extensions=[]\n",
    "for root,dirs,files in os.walk(extract_path):\n",
    "    print(f\"Reading images from {root}, Found {len(files)} files.\")\n",
    "    for file_name in files:\n",
    "        file_extensions.append(os.path.splitext(file_name)[-1])\n",
    "        file_path=os.path.join(root, file_name)\n",
    "print()\n",
    "print(\"Total Number of Files:\", len(file_extensions))\n",
    "print(\"File extension:\", set(file_extensions))"
   ]
  },
  {
   "cell_type": "code",
   "execution_count": 4,
   "id": "c2c79f32-5f0d-474d-b7b4-61fac75ec42c",
   "metadata": {},
   "outputs": [],
   "source": [
    "def read_image_files(path):\n",
    "    images_data = []\n",
    "    for root,dirs,files in os.walk(extract_path):\n",
    "        for file_name in files:\n",
    "            extension = os.path.splitext(file_name)[-1]\n",
    "            if extension in file_extensions:\n",
    "                file_path = os.path.join(root, file_name)\n",
    "                img=Image.open(file_path)\n",
    "                images_data.append({\"FileName\": file_name,\n",
    "                                    \"Extension\": extension,\n",
    "                                    \"Size\": img.size,\n",
    "                                    \"Mode\": img.mode,\n",
    "                                    \"Dir\": root})\n",
    "                \n",
    "    return images_data\n",
    "\n",
    "def load_into_df(images_data):\n",
    "    df=pd.DataFrame(images_data)\n",
    "    return df"
   ]
  },
  {
   "cell_type": "code",
   "execution_count": 5,
   "id": "79e930fb-328a-45c5-9ad1-9ae779489fd3",
   "metadata": {},
   "outputs": [
    {
     "data": {
      "text/html": [
       "<div>\n",
       "<style scoped>\n",
       "    .dataframe tbody tr th:only-of-type {\n",
       "        vertical-align: middle;\n",
       "    }\n",
       "\n",
       "    .dataframe tbody tr th {\n",
       "        vertical-align: top;\n",
       "    }\n",
       "\n",
       "    .dataframe thead th {\n",
       "        text-align: right;\n",
       "    }\n",
       "</style>\n",
       "<table border=\"1\" class=\"dataframe\">\n",
       "  <thead>\n",
       "    <tr style=\"text-align: right;\">\n",
       "      <th></th>\n",
       "      <th>FileName</th>\n",
       "      <th>Extension</th>\n",
       "      <th>Size</th>\n",
       "      <th>Mode</th>\n",
       "      <th>Dir</th>\n",
       "    </tr>\n",
       "  </thead>\n",
       "  <tbody>\n",
       "    <tr>\n",
       "      <th>0</th>\n",
       "      <td>A-0.png</td>\n",
       "      <td>.png</td>\n",
       "      <td>(28, 28)</td>\n",
       "      <td>L</td>\n",
       "      <td>C:\\Users\\kolli\\Downloads\\mnist\\New folder\\A</td>\n",
       "    </tr>\n",
       "    <tr>\n",
       "      <th>1</th>\n",
       "      <td>A-1.png</td>\n",
       "      <td>.png</td>\n",
       "      <td>(28, 28)</td>\n",
       "      <td>L</td>\n",
       "      <td>C:\\Users\\kolli\\Downloads\\mnist\\New folder\\A</td>\n",
       "    </tr>\n",
       "    <tr>\n",
       "      <th>2</th>\n",
       "      <td>A-10.png</td>\n",
       "      <td>.png</td>\n",
       "      <td>(28, 28)</td>\n",
       "      <td>L</td>\n",
       "      <td>C:\\Users\\kolli\\Downloads\\mnist\\New folder\\A</td>\n",
       "    </tr>\n",
       "    <tr>\n",
       "      <th>3</th>\n",
       "      <td>A-100.png</td>\n",
       "      <td>.png</td>\n",
       "      <td>(28, 28)</td>\n",
       "      <td>L</td>\n",
       "      <td>C:\\Users\\kolli\\Downloads\\mnist\\New folder\\A</td>\n",
       "    </tr>\n",
       "    <tr>\n",
       "      <th>4</th>\n",
       "      <td>A-1000.png</td>\n",
       "      <td>.png</td>\n",
       "      <td>(28, 28)</td>\n",
       "      <td>L</td>\n",
       "      <td>C:\\Users\\kolli\\Downloads\\mnist\\New folder\\A</td>\n",
       "    </tr>\n",
       "  </tbody>\n",
       "</table>\n",
       "</div>"
      ],
      "text/plain": [
       "     FileName Extension      Size Mode  \\\n",
       "0     A-0.png      .png  (28, 28)    L   \n",
       "1     A-1.png      .png  (28, 28)    L   \n",
       "2    A-10.png      .png  (28, 28)    L   \n",
       "3   A-100.png      .png  (28, 28)    L   \n",
       "4  A-1000.png      .png  (28, 28)    L   \n",
       "\n",
       "                                           Dir  \n",
       "0  C:\\Users\\kolli\\Downloads\\mnist\\New folder\\A  \n",
       "1  C:\\Users\\kolli\\Downloads\\mnist\\New folder\\A  \n",
       "2  C:\\Users\\kolli\\Downloads\\mnist\\New folder\\A  \n",
       "3  C:\\Users\\kolli\\Downloads\\mnist\\New folder\\A  \n",
       "4  C:\\Users\\kolli\\Downloads\\mnist\\New folder\\A  "
      ]
     },
     "execution_count": 5,
     "metadata": {},
     "output_type": "execute_result"
    }
   ],
   "source": [
    "images_data=read_image_files(extract_path)\n",
    "\n",
    "df=load_into_df(images_data)\n",
    "\n",
    "df.head() "
   ]
  },
  {
   "cell_type": "code",
   "execution_count": 6,
   "id": "c0edb4b1-e3fb-4f99-abf2-7836f719580a",
   "metadata": {},
   "outputs": [],
   "source": [
    "df.to_csv(\"alphabets.csv\")"
   ]
  },
  {
   "cell_type": "code",
   "execution_count": 7,
   "id": "944bf257-90dd-4c1b-a336-e7ace4d4944b",
   "metadata": {},
   "outputs": [
    {
     "data": {
      "text/html": [
       "<div>\n",
       "<style scoped>\n",
       "    .dataframe tbody tr th:only-of-type {\n",
       "        vertical-align: middle;\n",
       "    }\n",
       "\n",
       "    .dataframe tbody tr th {\n",
       "        vertical-align: top;\n",
       "    }\n",
       "\n",
       "    .dataframe thead th {\n",
       "        text-align: right;\n",
       "    }\n",
       "</style>\n",
       "<table border=\"1\" class=\"dataframe\">\n",
       "  <thead>\n",
       "    <tr style=\"text-align: right;\">\n",
       "      <th></th>\n",
       "      <th>FileName</th>\n",
       "      <th>Extension</th>\n",
       "      <th>Size</th>\n",
       "      <th>Mode</th>\n",
       "      <th>Dir</th>\n",
       "    </tr>\n",
       "  </thead>\n",
       "  <tbody>\n",
       "    <tr>\n",
       "      <th>0</th>\n",
       "      <td>A-0.png</td>\n",
       "      <td>.png</td>\n",
       "      <td>(28, 28)</td>\n",
       "      <td>L</td>\n",
       "      <td>C:\\Users\\kolli\\Downloads\\mnist\\New folder\\A</td>\n",
       "    </tr>\n",
       "    <tr>\n",
       "      <th>1</th>\n",
       "      <td>A-1.png</td>\n",
       "      <td>.png</td>\n",
       "      <td>(28, 28)</td>\n",
       "      <td>L</td>\n",
       "      <td>C:\\Users\\kolli\\Downloads\\mnist\\New folder\\A</td>\n",
       "    </tr>\n",
       "    <tr>\n",
       "      <th>2</th>\n",
       "      <td>A-10.png</td>\n",
       "      <td>.png</td>\n",
       "      <td>(28, 28)</td>\n",
       "      <td>L</td>\n",
       "      <td>C:\\Users\\kolli\\Downloads\\mnist\\New folder\\A</td>\n",
       "    </tr>\n",
       "    <tr>\n",
       "      <th>3</th>\n",
       "      <td>A-100.png</td>\n",
       "      <td>.png</td>\n",
       "      <td>(28, 28)</td>\n",
       "      <td>L</td>\n",
       "      <td>C:\\Users\\kolli\\Downloads\\mnist\\New folder\\A</td>\n",
       "    </tr>\n",
       "    <tr>\n",
       "      <th>4</th>\n",
       "      <td>A-1000.png</td>\n",
       "      <td>.png</td>\n",
       "      <td>(28, 28)</td>\n",
       "      <td>L</td>\n",
       "      <td>C:\\Users\\kolli\\Downloads\\mnist\\New folder\\A</td>\n",
       "    </tr>\n",
       "  </tbody>\n",
       "</table>\n",
       "</div>"
      ],
      "text/plain": [
       "     FileName Extension      Size Mode  \\\n",
       "0     A-0.png      .png  (28, 28)    L   \n",
       "1     A-1.png      .png  (28, 28)    L   \n",
       "2    A-10.png      .png  (28, 28)    L   \n",
       "3   A-100.png      .png  (28, 28)    L   \n",
       "4  A-1000.png      .png  (28, 28)    L   \n",
       "\n",
       "                                           Dir  \n",
       "0  C:\\Users\\kolli\\Downloads\\mnist\\New folder\\A  \n",
       "1  C:\\Users\\kolli\\Downloads\\mnist\\New folder\\A  \n",
       "2  C:\\Users\\kolli\\Downloads\\mnist\\New folder\\A  \n",
       "3  C:\\Users\\kolli\\Downloads\\mnist\\New folder\\A  \n",
       "4  C:\\Users\\kolli\\Downloads\\mnist\\New folder\\A  "
      ]
     },
     "execution_count": 7,
     "metadata": {},
     "output_type": "execute_result"
    }
   ],
   "source": [
    "df.head()"
   ]
  },
  {
   "cell_type": "code",
   "execution_count": 8,
   "id": "2c67852b-04b5-4db8-820b-cdac2d554fbd",
   "metadata": {},
   "outputs": [
    {
     "data": {
      "text/plain": [
       "Extension\n",
       ".png    372451\n",
       "Name: count, dtype: int64"
      ]
     },
     "execution_count": 8,
     "metadata": {},
     "output_type": "execute_result"
    }
   ],
   "source": [
    "df['Extension'].value_counts()"
   ]
  },
  {
   "cell_type": "code",
   "execution_count": 9,
   "id": "dd13af92-0cdd-4421-8063-ef8ee08f938c",
   "metadata": {},
   "outputs": [
    {
     "data": {
      "text/plain": [
       "Size\n",
       "(28, 28)    372451\n",
       "Name: count, dtype: int64"
      ]
     },
     "execution_count": 9,
     "metadata": {},
     "output_type": "execute_result"
    }
   ],
   "source": [
    "df['Size'].value_counts()"
   ]
  },
  {
   "cell_type": "code",
   "execution_count": 10,
   "id": "f7cf5db6-ea54-452a-b80a-d2fec6066143",
   "metadata": {},
   "outputs": [
    {
     "data": {
      "text/plain": [
       "Mode\n",
       "L    372451\n",
       "Name: count, dtype: int64"
      ]
     },
     "execution_count": 10,
     "metadata": {},
     "output_type": "execute_result"
    }
   ],
   "source": [
    "df['Mode'].value_counts()"
   ]
  },
  {
   "cell_type": "code",
   "execution_count": 11,
   "id": "cc2d5cca-7699-40d6-aa05-220cba61f58a",
   "metadata": {},
   "outputs": [
    {
     "data": {
      "text/plain": [
       "Dir\n",
       "C:\\Users\\kolli\\Downloads\\mnist\\New folder\\O    57825\n",
       "C:\\Users\\kolli\\Downloads\\mnist\\New folder\\S    48419\n",
       "C:\\Users\\kolli\\Downloads\\mnist\\New folder\\U    29008\n",
       "C:\\Users\\kolli\\Downloads\\mnist\\New folder\\C    23409\n",
       "C:\\Users\\kolli\\Downloads\\mnist\\New folder\\T    22495\n",
       "C:\\Users\\kolli\\Downloads\\mnist\\New folder\\P    19341\n",
       "C:\\Users\\kolli\\Downloads\\mnist\\New folder\\N    19010\n",
       "C:\\Users\\kolli\\Downloads\\mnist\\New folder\\A    13870\n",
       "C:\\Users\\kolli\\Downloads\\mnist\\New folder\\M    12336\n",
       "C:\\Users\\kolli\\Downloads\\mnist\\New folder\\L    11586\n",
       "C:\\Users\\kolli\\Downloads\\mnist\\New folder\\R    11566\n",
       "C:\\Users\\kolli\\Downloads\\mnist\\New folder\\E    11440\n",
       "C:\\Users\\kolli\\Downloads\\mnist\\New folder\\Y    10859\n",
       "C:\\Users\\kolli\\Downloads\\mnist\\New folder\\W    10784\n",
       "C:\\Users\\kolli\\Downloads\\mnist\\New folder\\D    10134\n",
       "C:\\Users\\kolli\\Downloads\\mnist\\New folder\\B     8668\n",
       "C:\\Users\\kolli\\Downloads\\mnist\\New folder\\J     8493\n",
       "C:\\Users\\kolli\\Downloads\\mnist\\New folder\\H     7218\n",
       "C:\\Users\\kolli\\Downloads\\mnist\\New folder\\X     6272\n",
       "C:\\Users\\kolli\\Downloads\\mnist\\New folder\\Z     6076\n",
       "C:\\Users\\kolli\\Downloads\\mnist\\New folder\\Q     5812\n",
       "C:\\Users\\kolli\\Downloads\\mnist\\New folder\\G     5762\n",
       "C:\\Users\\kolli\\Downloads\\mnist\\New folder\\K     5603\n",
       "C:\\Users\\kolli\\Downloads\\mnist\\New folder\\V     4182\n",
       "C:\\Users\\kolli\\Downloads\\mnist\\New folder\\F     1163\n",
       "C:\\Users\\kolli\\Downloads\\mnist\\New folder\\I     1120\n",
       "Name: count, dtype: int64"
      ]
     },
     "execution_count": 11,
     "metadata": {},
     "output_type": "execute_result"
    }
   ],
   "source": [
    "df['Dir'].value_counts()"
   ]
  },
  {
   "cell_type": "markdown",
   "id": "6dc92b8b-1c7d-4014-adf6-24e8517d2de8",
   "metadata": {},
   "source": [
    "### Create a Data Frame"
   ]
  },
  {
   "cell_type": "code",
   "execution_count": 27,
   "id": "f82f6407-c873-4700-803b-2b3127e016a8",
   "metadata": {},
   "outputs": [],
   "source": [
    "path=r\"C:\\Users\\kolli\\Downloads\\mnist\\New folder\""
   ]
  },
  {
   "cell_type": "code",
   "execution_count": 28,
   "id": "d5e4e66b-62d5-4bf8-a398-5b0a73cc9333",
   "metadata": {},
   "outputs": [],
   "source": [
    "def vectorize_image_files(path):\n",
    "    image_vectors = []\n",
    "    image_labels=[]\n",
    "    labels=[dir_name for dir_name in os.listdir(path) if os.path.isdir(os.path.join(path,dir_name))]\n",
    "    for label in labels:\n",
    "        i=0\n",
    "        label_dir = os.path.join(path,label)\n",
    "        if os.path.isdir(label_dir):\n",
    "            for image_file in os.listdir(label_dir):\n",
    "                i=i+1\n",
    "                image_file_path=os.path.join(label_dir, image_file)\n",
    "                with Image.open(image_file_path) as img:\n",
    "                    # vectorize\n",
    "                    img_arr=np.array(img)\n",
    "                    image_vector=img_arr.ravel()\n",
    "                    image_vectors.append(image_vector)\n",
    "                    image_labels.append(label)\n",
    "                if i>1000:\n",
    "                    break\n",
    "    return image_vectors, image_labels"
   ]
  },
  {
   "cell_type": "code",
   "execution_count": 29,
   "id": "680dae5d-546a-4866-80cb-c94cd821935c",
   "metadata": {},
   "outputs": [
    {
     "name": "stdout",
     "output_type": "stream",
     "text": [
      "CPU times: total: 10.5 s\n",
      "Wall time: 23.8 s\n"
     ]
    }
   ],
   "source": [
    "%%time\n",
    "image_vectors, image_labels = vectorize_image_files(path)"
   ]
  },
  {
   "cell_type": "code",
   "execution_count": 30,
   "id": "34defdca-366c-47dd-9c45-efd6465c8083",
   "metadata": {},
   "outputs": [],
   "source": [
    "def load_vectors_into_df(image_vectors,image_labels):\n",
    "    df=pd.DataFrame(image_vectors,columns=[f'pixel_{i}' for i in range(len(image_vectors[0]))])\n",
    "    df['labels'] = image_labels\n",
    "    return df"
   ]
  },
  {
   "cell_type": "code",
   "execution_count": 31,
   "id": "37ae0059-ae6a-457c-920a-7f07a17dd523",
   "metadata": {},
   "outputs": [
    {
     "name": "stdout",
     "output_type": "stream",
     "text": [
      "CPU times: total: 4min 20s\n",
      "Wall time: 9min 46s\n"
     ]
    }
   ],
   "source": [
    "%%time\n",
    "df=load_vectors_into_df(image_vectors,image_labels)"
   ]
  },
  {
   "cell_type": "code",
   "execution_count": 32,
   "id": "9284a1d8-153b-457c-b954-54ef71ca42fb",
   "metadata": {},
   "outputs": [
    {
     "data": {
      "text/html": [
       "<div>\n",
       "<style scoped>\n",
       "    .dataframe tbody tr th:only-of-type {\n",
       "        vertical-align: middle;\n",
       "    }\n",
       "\n",
       "    .dataframe tbody tr th {\n",
       "        vertical-align: top;\n",
       "    }\n",
       "\n",
       "    .dataframe thead th {\n",
       "        text-align: right;\n",
       "    }\n",
       "</style>\n",
       "<table border=\"1\" class=\"dataframe\">\n",
       "  <thead>\n",
       "    <tr style=\"text-align: right;\">\n",
       "      <th></th>\n",
       "      <th>pixel_0</th>\n",
       "      <th>pixel_1</th>\n",
       "      <th>pixel_2</th>\n",
       "      <th>pixel_3</th>\n",
       "      <th>pixel_4</th>\n",
       "      <th>pixel_5</th>\n",
       "      <th>pixel_6</th>\n",
       "      <th>pixel_7</th>\n",
       "      <th>pixel_8</th>\n",
       "      <th>pixel_9</th>\n",
       "      <th>...</th>\n",
       "      <th>pixel_775</th>\n",
       "      <th>pixel_776</th>\n",
       "      <th>pixel_777</th>\n",
       "      <th>pixel_778</th>\n",
       "      <th>pixel_779</th>\n",
       "      <th>pixel_780</th>\n",
       "      <th>pixel_781</th>\n",
       "      <th>pixel_782</th>\n",
       "      <th>pixel_783</th>\n",
       "      <th>labels</th>\n",
       "    </tr>\n",
       "  </thead>\n",
       "  <tbody>\n",
       "    <tr>\n",
       "      <th>0</th>\n",
       "      <td>0</td>\n",
       "      <td>0</td>\n",
       "      <td>0</td>\n",
       "      <td>0</td>\n",
       "      <td>0</td>\n",
       "      <td>0</td>\n",
       "      <td>0</td>\n",
       "      <td>0</td>\n",
       "      <td>0</td>\n",
       "      <td>0</td>\n",
       "      <td>...</td>\n",
       "      <td>0</td>\n",
       "      <td>0</td>\n",
       "      <td>0</td>\n",
       "      <td>0</td>\n",
       "      <td>0</td>\n",
       "      <td>0</td>\n",
       "      <td>0</td>\n",
       "      <td>0</td>\n",
       "      <td>0</td>\n",
       "      <td>A</td>\n",
       "    </tr>\n",
       "    <tr>\n",
       "      <th>1</th>\n",
       "      <td>0</td>\n",
       "      <td>0</td>\n",
       "      <td>0</td>\n",
       "      <td>0</td>\n",
       "      <td>0</td>\n",
       "      <td>0</td>\n",
       "      <td>0</td>\n",
       "      <td>0</td>\n",
       "      <td>0</td>\n",
       "      <td>0</td>\n",
       "      <td>...</td>\n",
       "      <td>0</td>\n",
       "      <td>0</td>\n",
       "      <td>0</td>\n",
       "      <td>0</td>\n",
       "      <td>0</td>\n",
       "      <td>0</td>\n",
       "      <td>0</td>\n",
       "      <td>0</td>\n",
       "      <td>0</td>\n",
       "      <td>A</td>\n",
       "    </tr>\n",
       "    <tr>\n",
       "      <th>2</th>\n",
       "      <td>0</td>\n",
       "      <td>0</td>\n",
       "      <td>0</td>\n",
       "      <td>0</td>\n",
       "      <td>0</td>\n",
       "      <td>0</td>\n",
       "      <td>0</td>\n",
       "      <td>0</td>\n",
       "      <td>0</td>\n",
       "      <td>0</td>\n",
       "      <td>...</td>\n",
       "      <td>0</td>\n",
       "      <td>0</td>\n",
       "      <td>0</td>\n",
       "      <td>0</td>\n",
       "      <td>0</td>\n",
       "      <td>0</td>\n",
       "      <td>0</td>\n",
       "      <td>0</td>\n",
       "      <td>0</td>\n",
       "      <td>A</td>\n",
       "    </tr>\n",
       "    <tr>\n",
       "      <th>3</th>\n",
       "      <td>0</td>\n",
       "      <td>0</td>\n",
       "      <td>0</td>\n",
       "      <td>0</td>\n",
       "      <td>0</td>\n",
       "      <td>0</td>\n",
       "      <td>0</td>\n",
       "      <td>0</td>\n",
       "      <td>0</td>\n",
       "      <td>0</td>\n",
       "      <td>...</td>\n",
       "      <td>0</td>\n",
       "      <td>0</td>\n",
       "      <td>0</td>\n",
       "      <td>0</td>\n",
       "      <td>0</td>\n",
       "      <td>0</td>\n",
       "      <td>0</td>\n",
       "      <td>0</td>\n",
       "      <td>0</td>\n",
       "      <td>A</td>\n",
       "    </tr>\n",
       "    <tr>\n",
       "      <th>4</th>\n",
       "      <td>0</td>\n",
       "      <td>0</td>\n",
       "      <td>0</td>\n",
       "      <td>0</td>\n",
       "      <td>0</td>\n",
       "      <td>0</td>\n",
       "      <td>0</td>\n",
       "      <td>0</td>\n",
       "      <td>0</td>\n",
       "      <td>0</td>\n",
       "      <td>...</td>\n",
       "      <td>0</td>\n",
       "      <td>0</td>\n",
       "      <td>0</td>\n",
       "      <td>0</td>\n",
       "      <td>0</td>\n",
       "      <td>0</td>\n",
       "      <td>0</td>\n",
       "      <td>0</td>\n",
       "      <td>0</td>\n",
       "      <td>A</td>\n",
       "    </tr>\n",
       "  </tbody>\n",
       "</table>\n",
       "<p>5 rows × 785 columns</p>\n",
       "</div>"
      ],
      "text/plain": [
       "   pixel_0  pixel_1  pixel_2  pixel_3  pixel_4  pixel_5  pixel_6  pixel_7  \\\n",
       "0        0        0        0        0        0        0        0        0   \n",
       "1        0        0        0        0        0        0        0        0   \n",
       "2        0        0        0        0        0        0        0        0   \n",
       "3        0        0        0        0        0        0        0        0   \n",
       "4        0        0        0        0        0        0        0        0   \n",
       "\n",
       "   pixel_8  pixel_9  ...  pixel_775  pixel_776  pixel_777  pixel_778  \\\n",
       "0        0        0  ...          0          0          0          0   \n",
       "1        0        0  ...          0          0          0          0   \n",
       "2        0        0  ...          0          0          0          0   \n",
       "3        0        0  ...          0          0          0          0   \n",
       "4        0        0  ...          0          0          0          0   \n",
       "\n",
       "   pixel_779  pixel_780  pixel_781  pixel_782  pixel_783  labels  \n",
       "0          0          0          0          0          0       A  \n",
       "1          0          0          0          0          0       A  \n",
       "2          0          0          0          0          0       A  \n",
       "3          0          0          0          0          0       A  \n",
       "4          0          0          0          0          0       A  \n",
       "\n",
       "[5 rows x 785 columns]"
      ]
     },
     "execution_count": 32,
     "metadata": {},
     "output_type": "execute_result"
    }
   ],
   "source": [
    "df.head()"
   ]
  },
  {
   "cell_type": "markdown",
   "id": "178ae7dc-4484-472d-8cfd-b49d5d34d077",
   "metadata": {},
   "source": [
    "### Step 1 - Load the data"
   ]
  },
  {
   "cell_type": "code",
   "execution_count": 37,
   "id": "f5af3ddd-f7a7-4601-adc5-dde8769b457d",
   "metadata": {},
   "outputs": [],
   "source": [
    "df.to_csv(\"images_data.csv\")"
   ]
  },
  {
   "cell_type": "code",
   "execution_count": 38,
   "id": "672ba6c5-f84c-4129-b9ca-c4b5ce1611bc",
   "metadata": {},
   "outputs": [],
   "source": [
    "images_df=pd.read_csv(r\"C:\\Users\\kolli\\images_data.csv\")"
   ]
  },
  {
   "cell_type": "code",
   "execution_count": 39,
   "id": "1f870067-3a94-451e-a1bd-569e07538769",
   "metadata": {},
   "outputs": [
    {
     "data": {
      "text/html": [
       "<div>\n",
       "<style scoped>\n",
       "    .dataframe tbody tr th:only-of-type {\n",
       "        vertical-align: middle;\n",
       "    }\n",
       "\n",
       "    .dataframe tbody tr th {\n",
       "        vertical-align: top;\n",
       "    }\n",
       "\n",
       "    .dataframe thead th {\n",
       "        text-align: right;\n",
       "    }\n",
       "</style>\n",
       "<table border=\"1\" class=\"dataframe\">\n",
       "  <thead>\n",
       "    <tr style=\"text-align: right;\">\n",
       "      <th></th>\n",
       "      <th>Unnamed: 0</th>\n",
       "      <th>pixel_0</th>\n",
       "      <th>pixel_1</th>\n",
       "      <th>pixel_2</th>\n",
       "      <th>pixel_3</th>\n",
       "      <th>pixel_4</th>\n",
       "      <th>pixel_5</th>\n",
       "      <th>pixel_6</th>\n",
       "      <th>pixel_7</th>\n",
       "      <th>pixel_8</th>\n",
       "      <th>...</th>\n",
       "      <th>pixel_775</th>\n",
       "      <th>pixel_776</th>\n",
       "      <th>pixel_777</th>\n",
       "      <th>pixel_778</th>\n",
       "      <th>pixel_779</th>\n",
       "      <th>pixel_780</th>\n",
       "      <th>pixel_781</th>\n",
       "      <th>pixel_782</th>\n",
       "      <th>pixel_783</th>\n",
       "      <th>labels</th>\n",
       "    </tr>\n",
       "  </thead>\n",
       "  <tbody>\n",
       "    <tr>\n",
       "      <th>0</th>\n",
       "      <td>0</td>\n",
       "      <td>0</td>\n",
       "      <td>0</td>\n",
       "      <td>0</td>\n",
       "      <td>0</td>\n",
       "      <td>0</td>\n",
       "      <td>0</td>\n",
       "      <td>0</td>\n",
       "      <td>0</td>\n",
       "      <td>0</td>\n",
       "      <td>...</td>\n",
       "      <td>0</td>\n",
       "      <td>0</td>\n",
       "      <td>0</td>\n",
       "      <td>0</td>\n",
       "      <td>0</td>\n",
       "      <td>0</td>\n",
       "      <td>0</td>\n",
       "      <td>0</td>\n",
       "      <td>0</td>\n",
       "      <td>A</td>\n",
       "    </tr>\n",
       "    <tr>\n",
       "      <th>1</th>\n",
       "      <td>1</td>\n",
       "      <td>0</td>\n",
       "      <td>0</td>\n",
       "      <td>0</td>\n",
       "      <td>0</td>\n",
       "      <td>0</td>\n",
       "      <td>0</td>\n",
       "      <td>0</td>\n",
       "      <td>0</td>\n",
       "      <td>0</td>\n",
       "      <td>...</td>\n",
       "      <td>0</td>\n",
       "      <td>0</td>\n",
       "      <td>0</td>\n",
       "      <td>0</td>\n",
       "      <td>0</td>\n",
       "      <td>0</td>\n",
       "      <td>0</td>\n",
       "      <td>0</td>\n",
       "      <td>0</td>\n",
       "      <td>A</td>\n",
       "    </tr>\n",
       "    <tr>\n",
       "      <th>2</th>\n",
       "      <td>2</td>\n",
       "      <td>0</td>\n",
       "      <td>0</td>\n",
       "      <td>0</td>\n",
       "      <td>0</td>\n",
       "      <td>0</td>\n",
       "      <td>0</td>\n",
       "      <td>0</td>\n",
       "      <td>0</td>\n",
       "      <td>0</td>\n",
       "      <td>...</td>\n",
       "      <td>0</td>\n",
       "      <td>0</td>\n",
       "      <td>0</td>\n",
       "      <td>0</td>\n",
       "      <td>0</td>\n",
       "      <td>0</td>\n",
       "      <td>0</td>\n",
       "      <td>0</td>\n",
       "      <td>0</td>\n",
       "      <td>A</td>\n",
       "    </tr>\n",
       "    <tr>\n",
       "      <th>3</th>\n",
       "      <td>3</td>\n",
       "      <td>0</td>\n",
       "      <td>0</td>\n",
       "      <td>0</td>\n",
       "      <td>0</td>\n",
       "      <td>0</td>\n",
       "      <td>0</td>\n",
       "      <td>0</td>\n",
       "      <td>0</td>\n",
       "      <td>0</td>\n",
       "      <td>...</td>\n",
       "      <td>0</td>\n",
       "      <td>0</td>\n",
       "      <td>0</td>\n",
       "      <td>0</td>\n",
       "      <td>0</td>\n",
       "      <td>0</td>\n",
       "      <td>0</td>\n",
       "      <td>0</td>\n",
       "      <td>0</td>\n",
       "      <td>A</td>\n",
       "    </tr>\n",
       "    <tr>\n",
       "      <th>4</th>\n",
       "      <td>4</td>\n",
       "      <td>0</td>\n",
       "      <td>0</td>\n",
       "      <td>0</td>\n",
       "      <td>0</td>\n",
       "      <td>0</td>\n",
       "      <td>0</td>\n",
       "      <td>0</td>\n",
       "      <td>0</td>\n",
       "      <td>0</td>\n",
       "      <td>...</td>\n",
       "      <td>0</td>\n",
       "      <td>0</td>\n",
       "      <td>0</td>\n",
       "      <td>0</td>\n",
       "      <td>0</td>\n",
       "      <td>0</td>\n",
       "      <td>0</td>\n",
       "      <td>0</td>\n",
       "      <td>0</td>\n",
       "      <td>A</td>\n",
       "    </tr>\n",
       "  </tbody>\n",
       "</table>\n",
       "<p>5 rows × 786 columns</p>\n",
       "</div>"
      ],
      "text/plain": [
       "   Unnamed: 0  pixel_0  pixel_1  pixel_2  pixel_3  pixel_4  pixel_5  pixel_6  \\\n",
       "0           0        0        0        0        0        0        0        0   \n",
       "1           1        0        0        0        0        0        0        0   \n",
       "2           2        0        0        0        0        0        0        0   \n",
       "3           3        0        0        0        0        0        0        0   \n",
       "4           4        0        0        0        0        0        0        0   \n",
       "\n",
       "   pixel_7  pixel_8  ...  pixel_775  pixel_776  pixel_777  pixel_778  \\\n",
       "0        0        0  ...          0          0          0          0   \n",
       "1        0        0  ...          0          0          0          0   \n",
       "2        0        0  ...          0          0          0          0   \n",
       "3        0        0  ...          0          0          0          0   \n",
       "4        0        0  ...          0          0          0          0   \n",
       "\n",
       "   pixel_779  pixel_780  pixel_781  pixel_782  pixel_783  labels  \n",
       "0          0          0          0          0          0       A  \n",
       "1          0          0          0          0          0       A  \n",
       "2          0          0          0          0          0       A  \n",
       "3          0          0          0          0          0       A  \n",
       "4          0          0          0          0          0       A  \n",
       "\n",
       "[5 rows x 786 columns]"
      ]
     },
     "execution_count": 39,
     "metadata": {},
     "output_type": "execute_result"
    }
   ],
   "source": [
    "images_df.head()"
   ]
  },
  {
   "cell_type": "code",
   "execution_count": 40,
   "id": "f202c0ac-900a-4fef-adf3-f39cca1fb888",
   "metadata": {},
   "outputs": [],
   "source": [
    "images_df.drop(columns='Unnamed: 0', inplace=True)"
   ]
  },
  {
   "cell_type": "code",
   "execution_count": 41,
   "id": "a4213bfc-be49-4d7f-aaf3-98171266190f",
   "metadata": {},
   "outputs": [
    {
     "data": {
      "text/plain": [
       "(26026, 785)"
      ]
     },
     "execution_count": 41,
     "metadata": {},
     "output_type": "execute_result"
    }
   ],
   "source": [
    "df.shape"
   ]
  },
  {
   "cell_type": "code",
   "execution_count": 42,
   "id": "75388089-b2fc-4814-ac8f-ad84c11c8837",
   "metadata": {},
   "outputs": [
    {
     "data": {
      "text/plain": [
       "labels\n",
       "A    1001\n",
       "B    1001\n",
       "Y    1001\n",
       "X    1001\n",
       "W    1001\n",
       "V    1001\n",
       "U    1001\n",
       "T    1001\n",
       "S    1001\n",
       "R    1001\n",
       "Q    1001\n",
       "P    1001\n",
       "O    1001\n",
       "N    1001\n",
       "M    1001\n",
       "L    1001\n",
       "K    1001\n",
       "J    1001\n",
       "I    1001\n",
       "H    1001\n",
       "G    1001\n",
       "F    1001\n",
       "E    1001\n",
       "D    1001\n",
       "C    1001\n",
       "Z    1001\n",
       "Name: count, dtype: int64"
      ]
     },
     "execution_count": 42,
     "metadata": {},
     "output_type": "execute_result"
    }
   ],
   "source": [
    "df['labels'].value_counts()"
   ]
  },
  {
   "cell_type": "code",
   "execution_count": 43,
   "id": "0458cdb2-a5f2-4214-9a76-2f19c3cc2c25",
   "metadata": {},
   "outputs": [
    {
     "data": {
      "text/plain": [
       "784"
      ]
     },
     "execution_count": 43,
     "metadata": {},
     "output_type": "execute_result"
    }
   ],
   "source": [
    "28*28"
   ]
  },
  {
   "cell_type": "markdown",
   "id": "52b8c07c-a860-4af5-a1ac-5d6b69518a6b",
   "metadata": {},
   "source": [
    "#### Step 2 - Exploratory Data Analysis\r",
    "##### \n",
    "1. Show me some nice analysis on the given data."
   ]
  },
  {
   "cell_type": "code",
   "execution_count": 44,
   "id": "5719116a-23d5-4455-bcbb-b600d5e1fed9",
   "metadata": {},
   "outputs": [
    {
     "data": {
      "text/plain": [
       "<Axes: xlabel='labels', ylabel='count'>"
      ]
     },
     "execution_count": 44,
     "metadata": {},
     "output_type": "execute_result"
    },
    {
     "data": {
      "image/png": "[encoded data removed]",
      "text/plain": [
       "<Figure size 640x480 with 1 Axes>"
      ]
     },
     "metadata": {},
     "output_type": "display_data"
    }
   ],
   "source": [
    "sns.countplot(data=df,x='labels')"
   ]
  },
  {
   "cell_type": "code",
   "execution_count": 45,
   "id": "46ee544f-0628-4810-9b4f-1dc3c9425483",
   "metadata": {},
   "outputs": [
    {
     "name": "stdout",
     "output_type": "stream",
     "text": [
      "Randomly Generated index: 2316\n",
      "Label of image at 2316 index: C\n",
      "Data Type of Image Array: object\n",
      "Image Array:\n",
      " [[0 0 0 0 0 0 0 0 0 0 0 0 0 0 0 0 0 0 0 0 0 0 0 0 0 0 0 0]\n",
      " [0 0 0 0 0 0 0 0 0 0 0 0 0 0 0 0 0 0 0 0 0 0 0 0 0 0 0 0]\n",
      " [0 0 0 0 0 0 0 0 0 0 0 0 0 0 0 0 0 0 0 0 0 0 0 0 0 0 0 0]\n",
      " [0 0 0 0 0 0 0 0 0 0 0 0 0 0 0 0 0 0 0 0 0 0 0 0 0 0 0 0]\n",
      " [0 0 0 0 0 0 0 0 0 0 0 0 0 29 146 197 122 62 0 0 0 0 0 0 0 0 0 0]\n",
      " [0 0 0 0 0 0 0 0 0 0 0 9 53 163 246 255 248 162 23 0 0 0 0 0 0 0 0 0]\n",
      " [0 0 0 0 0 0 0 0 0 0 0 43 174 255 249 208 202 212 92 1 0 0 0 0 0 0 0 0]\n",
      " [0 0 0 0 0 0 0 0 0 0 0 116 229 217 128 129 225 255 200 64 0 0 0 0 0 0 0\n",
      "  0]\n",
      " [0 0 0 0 0 0 0 0 0 34 170 249 251 157 38 91 225 255 221 108 0 0 0 0 0 0\n",
      "  0 0]\n",
      " [0 0 0 0 0 0 0 0 31 120 219 229 113 16 0 91 225 255 221 108 0 0 0 0 0 0\n",
      "  0 0]\n",
      " [0 0 0 0 0 0 0 0 108 221 255 212 81 0 0 81 212 255 221 108 0 0 0 0 0 0 0\n",
      "  0]\n",
      " [0 0 0 0 0 0 0 18 156 240 224 99 12 0 0 12 60 109 95 46 0 0 0 0 0 0 0 0]\n",
      " [0 0 0 0 0 0 0 77 210 221 85 6 0 0 0 0 0 0 0 0 0 0 0 0 0 0 0 0]\n",
      " [0 0 0 0 0 0 83 209 218 81 7 0 0 0 0 0 0 0 0 0 0 0 0 0 0 0 0 0]\n",
      " [0 0 0 0 0 13 179 247 147 34 0 0 0 0 0 0 0 0 0 0 0 0 0 0 0 0 0 0]\n",
      " [0 0 0 0 0 90 223 255 147 34 0 0 0 0 0 0 0 0 0 0 0 0 0 0 0 0 0 0]\n",
      " [0 0 0 0 0 208 255 223 63 0 0 0 0 0 0 0 0 0 0 0 0 0 0 0 0 0 0 0]\n",
      " [0 0 0 0 0 208 223 182 51 0 0 0 0 0 0 0 0 0 0 0 0 0 0 0 0 0 0 0]\n",
      " [0 0 0 0 0 124 200 121 26 0 0 0 0 0 0 0 0 0 0 0 0 0 0 0 0 0 0 0]\n",
      " [0 0 0 0 0 90 223 223 63 0 0 0 0 0 0 0 0 0 0 0 22 65 0 0 0 0 0 0]\n",
      " [0 0 0 0 0 0 172 246 194 129 47 4 0 0 0 39 96 109 129 194 255 255 208 0\n",
      "  0 0 0 0]\n",
      " [0 0 0 0 0 0 75 214 255 255 234 220 219 219 219 232 251 255 255 255 255\n",
      "  246 174 0 0 0 0 0]\n",
      " [0 0 0 0 0 0 17 139 222 250 255 255 255 255 255 255 255 255 250 234 193\n",
      "  98 26 0 0 0 0 0]\n",
      " [0 0 0 0 0 0 0 0 46 95 191 249 255 255 255 255 249 191 95 46 0 0 0 0 0 0\n",
      "  0 0]\n",
      " [0 0 0 0 0 0 0 0 0 0 0 0 0 0 0 0 0 0 0 0 0 0 0 0 0 0 0 0]\n",
      " [0 0 0 0 0 0 0 0 0 0 0 0 0 0 0 0 0 0 0 0 0 0 0 0 0 0 0 0]\n",
      " [0 0 0 0 0 0 0 0 0 0 0 0 0 0 0 0 0 0 0 0 0 0 0 0 0 0 0 0]\n",
      " [0 0 0 0 0 0 0 0 0 0 0 0 0 0 0 0 0 0 0 0 0 0 0 0 0 0 0 0]]\n"
     ]
    },
    {
     "data": {
      "text/plain": [
       "<matplotlib.image.AxesImage at 0x1f3e6ade750>"
      ]
     },
     "execution_count": 45,
     "metadata": {},
     "output_type": "execute_result"
    },
    {
     "data": {
      "image/png": "[encoded data removed]",
      "text/plain": [
       "<Figure size 640x480 with 1 Axes>"
      ]
     },
     "metadata": {},
     "output_type": "display_data"
    }
   ],
   "source": [
    "indx=np.random.randint(0, 26026)\n",
    "print(\"Randomly Generated index:\",indx)\n",
    "print(f\"Label of image at {indx} index:\", df.iloc[indx,-1])\n",
    "\n",
    "img=np.reshape(df.iloc[indx,0:-1], (28,28))\n",
    "print(\"Data Type of Image Array:\",img.dtype)\n",
    "print(\"Image Array:\\n\",img)\n",
    "\n",
    "img=img.astype(\"float\")\n",
    "plt.imshow(img)"
   ]
  },
  {
   "cell_type": "code",
   "execution_count": 47,
   "id": "bd3e374d-de79-4a6d-84a3-3c852d9d324a",
   "metadata": {},
   "outputs": [
    {
     "name": "stdout",
     "output_type": "stream",
     "text": [
      "[14540 17306 12819  5558 15100 17103  6779 17448  2977]\n"
     ]
    },
    {
     "data": {
      "image/png": "[encoded data removed]",
      "text/plain": [
       "<Figure size 1200x1200 with 9 Axes>"
      ]
     },
     "metadata": {},
     "output_type": "display_data"
    }
   ],
   "source": [
    "plt.figure(figsize=(12,12))\n",
    "indx=np.random.randint(1,df.shape[0],9)\n",
    "print(indx)\n",
    "\n",
    "for i in range(len(indx)):\n",
    "    plt.subplot(3,3,i+1)\n",
    "    label=df.iloc[indx[i],-1]\n",
    "    plt.title(label)\n",
    "    img=np.reshape(df.iloc[indx[i], 0:-1], (28,28))\n",
    "    img=img.astype('float')\n",
    "    plt.imshow(img)"
   ]
  },
  {
   "cell_type": "markdown",
   "id": "1c540fed-913f-4ceb-bc23-a229876b4d89",
   "metadata": {},
   "source": [
    "### SPRINT 2 - Build a model"
   ]
  },
  {
   "cell_type": "markdown",
   "id": "dec5f4e0-6980-44cc-ba80-09ac365c2404",
   "metadata": {},
   "source": [
    "#### Task A - Perform data preprocessing on the given image data and convert it into numerical vectors."
   ]
  },
  {
   "cell_type": "markdown",
   "id": "587da593-dfe0-4660-9eea-a46fca63f3fd",
   "metadata": {},
   "source": [
    "##### Step 3 - Segregate Inputs(X) and output(y)"
   ]
  },
  {
   "cell_type": "code",
   "execution_count": 48,
   "id": "b28e01a0-b6c4-4bcf-a47c-1f8aeb95fb2c",
   "metadata": {},
   "outputs": [],
   "source": [
    "#Define the Predictors(X) and target Variable(y)\n",
    "X=df.drop(columns=['labels'])\n",
    "y=df['labels']"
   ]
  },
  {
   "cell_type": "markdown",
   "id": "5fb51d0b-ae50-4a19-8910-0c06f12d7d09",
   "metadata": {},
   "source": [
    "### Step 4 - Split the data into Train and Test"
   ]
  },
  {
   "cell_type": "code",
   "execution_count": 49,
   "id": "7839d6f9-d518-49f9-8bdf-691489e2dd84",
   "metadata": {},
   "outputs": [
    {
     "name": "stdout",
     "output_type": "stream",
     "text": [
      "(19519, 784) (19519,)\n",
      "(6507, 784) (19519,)\n"
     ]
    }
   ],
   "source": [
    "# Split into train and test\n",
    "from sklearn.model_selection import train_test_split\n",
    "\n",
    "X_train,X_test, y_train, y_test = train_test_split(X,y,test_size=0.25, random_state=0)\n",
    "\n",
    "print(X_train.shape, y_train.shape)\n",
    "print(X_test.shape, y_train.shape)"
   ]
  },
  {
   "cell_type": "markdown",
   "id": "38131dc9-e428-45bc-b1b9-b42764fde049",
   "metadata": {},
   "source": [
    "#### Step 5 & 7 - Data Preparation"
   ]
  },
  {
   "cell_type": "markdown",
   "id": "1e474464-006c-44df-b7d2-49a6d5ad821f",
   "metadata": {},
   "source": [
    "### Data Preparation on Train data"
   ]
  },
  {
   "cell_type": "code",
   "execution_count": 50,
   "id": "ed196380-06c2-4294-a279-c7b0f86103b3",
   "metadata": {},
   "outputs": [
    {
     "data": {
      "text/html": [
       "<div>\n",
       "<style scoped>\n",
       "    .dataframe tbody tr th:only-of-type {\n",
       "        vertical-align: middle;\n",
       "    }\n",
       "\n",
       "    .dataframe tbody tr th {\n",
       "        vertical-align: top;\n",
       "    }\n",
       "\n",
       "    .dataframe thead th {\n",
       "        text-align: right;\n",
       "    }\n",
       "</style>\n",
       "<table border=\"1\" class=\"dataframe\">\n",
       "  <thead>\n",
       "    <tr style=\"text-align: right;\">\n",
       "      <th></th>\n",
       "      <th>pixel_0</th>\n",
       "      <th>pixel_1</th>\n",
       "      <th>pixel_2</th>\n",
       "      <th>pixel_3</th>\n",
       "      <th>pixel_4</th>\n",
       "      <th>pixel_5</th>\n",
       "      <th>pixel_6</th>\n",
       "      <th>pixel_7</th>\n",
       "      <th>pixel_8</th>\n",
       "      <th>pixel_9</th>\n",
       "      <th>...</th>\n",
       "      <th>pixel_774</th>\n",
       "      <th>pixel_775</th>\n",
       "      <th>pixel_776</th>\n",
       "      <th>pixel_777</th>\n",
       "      <th>pixel_778</th>\n",
       "      <th>pixel_779</th>\n",
       "      <th>pixel_780</th>\n",
       "      <th>pixel_781</th>\n",
       "      <th>pixel_782</th>\n",
       "      <th>pixel_783</th>\n",
       "    </tr>\n",
       "  </thead>\n",
       "  <tbody>\n",
       "    <tr>\n",
       "      <th>18071</th>\n",
       "      <td>0.0</td>\n",
       "      <td>0.0</td>\n",
       "      <td>0.0</td>\n",
       "      <td>0.0</td>\n",
       "      <td>0.0</td>\n",
       "      <td>0.0</td>\n",
       "      <td>0.0</td>\n",
       "      <td>0.0</td>\n",
       "      <td>0.0</td>\n",
       "      <td>0.0</td>\n",
       "      <td>...</td>\n",
       "      <td>0.0</td>\n",
       "      <td>0.0</td>\n",
       "      <td>0.0</td>\n",
       "      <td>0.0</td>\n",
       "      <td>0.0</td>\n",
       "      <td>0.0</td>\n",
       "      <td>0.0</td>\n",
       "      <td>0.0</td>\n",
       "      <td>0.0</td>\n",
       "      <td>0.0</td>\n",
       "    </tr>\n",
       "    <tr>\n",
       "      <th>15779</th>\n",
       "      <td>0.0</td>\n",
       "      <td>0.0</td>\n",
       "      <td>0.0</td>\n",
       "      <td>0.0</td>\n",
       "      <td>0.0</td>\n",
       "      <td>0.0</td>\n",
       "      <td>0.0</td>\n",
       "      <td>0.0</td>\n",
       "      <td>0.0</td>\n",
       "      <td>0.0</td>\n",
       "      <td>...</td>\n",
       "      <td>0.0</td>\n",
       "      <td>0.0</td>\n",
       "      <td>0.0</td>\n",
       "      <td>0.0</td>\n",
       "      <td>0.0</td>\n",
       "      <td>0.0</td>\n",
       "      <td>0.0</td>\n",
       "      <td>0.0</td>\n",
       "      <td>0.0</td>\n",
       "      <td>0.0</td>\n",
       "    </tr>\n",
       "    <tr>\n",
       "      <th>12816</th>\n",
       "      <td>0.0</td>\n",
       "      <td>0.0</td>\n",
       "      <td>0.0</td>\n",
       "      <td>0.0</td>\n",
       "      <td>0.0</td>\n",
       "      <td>0.0</td>\n",
       "      <td>0.0</td>\n",
       "      <td>0.0</td>\n",
       "      <td>0.0</td>\n",
       "      <td>0.0</td>\n",
       "      <td>...</td>\n",
       "      <td>0.0</td>\n",
       "      <td>0.0</td>\n",
       "      <td>0.0</td>\n",
       "      <td>0.0</td>\n",
       "      <td>0.0</td>\n",
       "      <td>0.0</td>\n",
       "      <td>0.0</td>\n",
       "      <td>0.0</td>\n",
       "      <td>0.0</td>\n",
       "      <td>0.0</td>\n",
       "    </tr>\n",
       "    <tr>\n",
       "      <th>2962</th>\n",
       "      <td>0.0</td>\n",
       "      <td>0.0</td>\n",
       "      <td>0.0</td>\n",
       "      <td>0.0</td>\n",
       "      <td>0.0</td>\n",
       "      <td>0.0</td>\n",
       "      <td>0.0</td>\n",
       "      <td>0.0</td>\n",
       "      <td>0.0</td>\n",
       "      <td>0.0</td>\n",
       "      <td>...</td>\n",
       "      <td>0.0</td>\n",
       "      <td>0.0</td>\n",
       "      <td>0.0</td>\n",
       "      <td>0.0</td>\n",
       "      <td>0.0</td>\n",
       "      <td>0.0</td>\n",
       "      <td>0.0</td>\n",
       "      <td>0.0</td>\n",
       "      <td>0.0</td>\n",
       "      <td>0.0</td>\n",
       "    </tr>\n",
       "    <tr>\n",
       "      <th>11684</th>\n",
       "      <td>0.0</td>\n",
       "      <td>0.0</td>\n",
       "      <td>0.0</td>\n",
       "      <td>0.0</td>\n",
       "      <td>0.0</td>\n",
       "      <td>0.0</td>\n",
       "      <td>0.0</td>\n",
       "      <td>0.0</td>\n",
       "      <td>0.0</td>\n",
       "      <td>0.0</td>\n",
       "      <td>...</td>\n",
       "      <td>0.0</td>\n",
       "      <td>0.0</td>\n",
       "      <td>0.0</td>\n",
       "      <td>0.0</td>\n",
       "      <td>0.0</td>\n",
       "      <td>0.0</td>\n",
       "      <td>0.0</td>\n",
       "      <td>0.0</td>\n",
       "      <td>0.0</td>\n",
       "      <td>0.0</td>\n",
       "    </tr>\n",
       "  </tbody>\n",
       "</table>\n",
       "<p>5 rows × 784 columns</p>\n",
       "</div>"
      ],
      "text/plain": [
       "       pixel_0  pixel_1  pixel_2  pixel_3  pixel_4  pixel_5  pixel_6  pixel_7  \\\n",
       "18071      0.0      0.0      0.0      0.0      0.0      0.0      0.0      0.0   \n",
       "15779      0.0      0.0      0.0      0.0      0.0      0.0      0.0      0.0   \n",
       "12816      0.0      0.0      0.0      0.0      0.0      0.0      0.0      0.0   \n",
       "2962       0.0      0.0      0.0      0.0      0.0      0.0      0.0      0.0   \n",
       "11684      0.0      0.0      0.0      0.0      0.0      0.0      0.0      0.0   \n",
       "\n",
       "       pixel_8  pixel_9  ...  pixel_774  pixel_775  pixel_776  pixel_777  \\\n",
       "18071      0.0      0.0  ...        0.0        0.0        0.0        0.0   \n",
       "15779      0.0      0.0  ...        0.0        0.0        0.0        0.0   \n",
       "12816      0.0      0.0  ...        0.0        0.0        0.0        0.0   \n",
       "2962       0.0      0.0  ...        0.0        0.0        0.0        0.0   \n",
       "11684      0.0      0.0  ...        0.0        0.0        0.0        0.0   \n",
       "\n",
       "       pixel_778  pixel_779  pixel_780  pixel_781  pixel_782  pixel_783  \n",
       "18071        0.0        0.0        0.0        0.0        0.0        0.0  \n",
       "15779        0.0        0.0        0.0        0.0        0.0        0.0  \n",
       "12816        0.0        0.0        0.0        0.0        0.0        0.0  \n",
       "2962         0.0        0.0        0.0        0.0        0.0        0.0  \n",
       "11684        0.0        0.0        0.0        0.0        0.0        0.0  \n",
       "\n",
       "[5 rows x 784 columns]"
      ]
     },
     "execution_count": 50,
     "metadata": {},
     "output_type": "execute_result"
    }
   ],
   "source": [
    "from sklearn.preprocessing import MinMaxScaler\n",
    "\n",
    "minmax_scaler = MinMaxScaler()\n",
    "\n",
    "X_train_transformed = pd.DataFrame(minmax_scaler.fit_transform(X_train),\n",
    "                                   columns=minmax_scaler.get_feature_names_out(),\n",
    "                                   index=X_train.index)\n",
    "\n",
    "X_train_transformed.head()"
   ]
  },
  {
   "cell_type": "markdown",
   "id": "ba47dbae-1fda-4110-a729-f76a5140258a",
   "metadata": {},
   "source": [
    "### Data Preparation on Test Data"
   ]
  },
  {
   "cell_type": "code",
   "execution_count": 51,
   "id": "9b7f9588-c1d7-436c-aacd-9f7dcf699625",
   "metadata": {},
   "outputs": [
    {
     "data": {
      "text/html": [
       "<div>\n",
       "<style scoped>\n",
       "    .dataframe tbody tr th:only-of-type {\n",
       "        vertical-align: middle;\n",
       "    }\n",
       "\n",
       "    .dataframe tbody tr th {\n",
       "        vertical-align: top;\n",
       "    }\n",
       "\n",
       "    .dataframe thead th {\n",
       "        text-align: right;\n",
       "    }\n",
       "</style>\n",
       "<table border=\"1\" class=\"dataframe\">\n",
       "  <thead>\n",
       "    <tr style=\"text-align: right;\">\n",
       "      <th></th>\n",
       "      <th>pixel_0</th>\n",
       "      <th>pixel_1</th>\n",
       "      <th>pixel_2</th>\n",
       "      <th>pixel_3</th>\n",
       "      <th>pixel_4</th>\n",
       "      <th>pixel_5</th>\n",
       "      <th>pixel_6</th>\n",
       "      <th>pixel_7</th>\n",
       "      <th>pixel_8</th>\n",
       "      <th>pixel_9</th>\n",
       "      <th>...</th>\n",
       "      <th>pixel_774</th>\n",
       "      <th>pixel_775</th>\n",
       "      <th>pixel_776</th>\n",
       "      <th>pixel_777</th>\n",
       "      <th>pixel_778</th>\n",
       "      <th>pixel_779</th>\n",
       "      <th>pixel_780</th>\n",
       "      <th>pixel_781</th>\n",
       "      <th>pixel_782</th>\n",
       "      <th>pixel_783</th>\n",
       "    </tr>\n",
       "  </thead>\n",
       "  <tbody>\n",
       "    <tr>\n",
       "      <th>6853</th>\n",
       "      <td>0.0</td>\n",
       "      <td>0.0</td>\n",
       "      <td>0.0</td>\n",
       "      <td>0.0</td>\n",
       "      <td>0.0</td>\n",
       "      <td>0.0</td>\n",
       "      <td>0.0</td>\n",
       "      <td>0.0</td>\n",
       "      <td>0.0</td>\n",
       "      <td>0.0</td>\n",
       "      <td>...</td>\n",
       "      <td>0.0</td>\n",
       "      <td>0.0</td>\n",
       "      <td>0.0</td>\n",
       "      <td>0.0</td>\n",
       "      <td>0.0</td>\n",
       "      <td>0.0</td>\n",
       "      <td>0.0</td>\n",
       "      <td>0.0</td>\n",
       "      <td>0.0</td>\n",
       "      <td>0.0</td>\n",
       "    </tr>\n",
       "    <tr>\n",
       "      <th>16555</th>\n",
       "      <td>0.0</td>\n",
       "      <td>0.0</td>\n",
       "      <td>0.0</td>\n",
       "      <td>0.0</td>\n",
       "      <td>0.0</td>\n",
       "      <td>0.0</td>\n",
       "      <td>0.0</td>\n",
       "      <td>0.0</td>\n",
       "      <td>0.0</td>\n",
       "      <td>0.0</td>\n",
       "      <td>...</td>\n",
       "      <td>0.0</td>\n",
       "      <td>0.0</td>\n",
       "      <td>0.0</td>\n",
       "      <td>0.0</td>\n",
       "      <td>0.0</td>\n",
       "      <td>0.0</td>\n",
       "      <td>0.0</td>\n",
       "      <td>0.0</td>\n",
       "      <td>0.0</td>\n",
       "      <td>0.0</td>\n",
       "    </tr>\n",
       "    <tr>\n",
       "      <th>22589</th>\n",
       "      <td>0.0</td>\n",
       "      <td>0.0</td>\n",
       "      <td>0.0</td>\n",
       "      <td>0.0</td>\n",
       "      <td>0.0</td>\n",
       "      <td>0.0</td>\n",
       "      <td>0.0</td>\n",
       "      <td>0.0</td>\n",
       "      <td>0.0</td>\n",
       "      <td>0.0</td>\n",
       "      <td>...</td>\n",
       "      <td>0.0</td>\n",
       "      <td>0.0</td>\n",
       "      <td>0.0</td>\n",
       "      <td>0.0</td>\n",
       "      <td>0.0</td>\n",
       "      <td>0.0</td>\n",
       "      <td>0.0</td>\n",
       "      <td>0.0</td>\n",
       "      <td>0.0</td>\n",
       "      <td>0.0</td>\n",
       "    </tr>\n",
       "    <tr>\n",
       "      <th>7368</th>\n",
       "      <td>0.0</td>\n",
       "      <td>0.0</td>\n",
       "      <td>0.0</td>\n",
       "      <td>0.0</td>\n",
       "      <td>0.0</td>\n",
       "      <td>0.0</td>\n",
       "      <td>0.0</td>\n",
       "      <td>0.0</td>\n",
       "      <td>0.0</td>\n",
       "      <td>0.0</td>\n",
       "      <td>...</td>\n",
       "      <td>0.0</td>\n",
       "      <td>0.0</td>\n",
       "      <td>0.0</td>\n",
       "      <td>0.0</td>\n",
       "      <td>0.0</td>\n",
       "      <td>0.0</td>\n",
       "      <td>0.0</td>\n",
       "      <td>0.0</td>\n",
       "      <td>0.0</td>\n",
       "      <td>0.0</td>\n",
       "    </tr>\n",
       "    <tr>\n",
       "      <th>23324</th>\n",
       "      <td>0.0</td>\n",
       "      <td>0.0</td>\n",
       "      <td>0.0</td>\n",
       "      <td>0.0</td>\n",
       "      <td>0.0</td>\n",
       "      <td>0.0</td>\n",
       "      <td>0.0</td>\n",
       "      <td>0.0</td>\n",
       "      <td>0.0</td>\n",
       "      <td>0.0</td>\n",
       "      <td>...</td>\n",
       "      <td>0.0</td>\n",
       "      <td>0.0</td>\n",
       "      <td>0.0</td>\n",
       "      <td>0.0</td>\n",
       "      <td>0.0</td>\n",
       "      <td>0.0</td>\n",
       "      <td>0.0</td>\n",
       "      <td>0.0</td>\n",
       "      <td>0.0</td>\n",
       "      <td>0.0</td>\n",
       "    </tr>\n",
       "  </tbody>\n",
       "</table>\n",
       "<p>5 rows × 784 columns</p>\n",
       "</div>"
      ],
      "text/plain": [
       "       pixel_0  pixel_1  pixel_2  pixel_3  pixel_4  pixel_5  pixel_6  pixel_7  \\\n",
       "6853       0.0      0.0      0.0      0.0      0.0      0.0      0.0      0.0   \n",
       "16555      0.0      0.0      0.0      0.0      0.0      0.0      0.0      0.0   \n",
       "22589      0.0      0.0      0.0      0.0      0.0      0.0      0.0      0.0   \n",
       "7368       0.0      0.0      0.0      0.0      0.0      0.0      0.0      0.0   \n",
       "23324      0.0      0.0      0.0      0.0      0.0      0.0      0.0      0.0   \n",
       "\n",
       "       pixel_8  pixel_9  ...  pixel_774  pixel_775  pixel_776  pixel_777  \\\n",
       "6853       0.0      0.0  ...        0.0        0.0        0.0        0.0   \n",
       "16555      0.0      0.0  ...        0.0        0.0        0.0        0.0   \n",
       "22589      0.0      0.0  ...        0.0        0.0        0.0        0.0   \n",
       "7368       0.0      0.0  ...        0.0        0.0        0.0        0.0   \n",
       "23324      0.0      0.0  ...        0.0        0.0        0.0        0.0   \n",
       "\n",
       "       pixel_778  pixel_779  pixel_780  pixel_781  pixel_782  pixel_783  \n",
       "6853         0.0        0.0        0.0        0.0        0.0        0.0  \n",
       "16555        0.0        0.0        0.0        0.0        0.0        0.0  \n",
       "22589        0.0        0.0        0.0        0.0        0.0        0.0  \n",
       "7368         0.0        0.0        0.0        0.0        0.0        0.0  \n",
       "23324        0.0        0.0        0.0        0.0        0.0        0.0  \n",
       "\n",
       "[5 rows x 784 columns]"
      ]
     },
     "execution_count": 51,
     "metadata": {},
     "output_type": "execute_result"
    }
   ],
   "source": [
    "X_test_transformed = pd.DataFrame(minmax_scaler.transform(X_test),\n",
    "                                  columns=minmax_scaler.get_feature_names_out(),\n",
    "                                  index=X_test.index)\n",
    "\n",
    "X_test_transformed.head()"
   ]
  },
  {
   "cell_type": "markdown",
   "id": "0942a456-dbbc-407e-9f2e-809d743b4562",
   "metadata": {},
   "source": [
    "#### Task B - Given an image, build a model that can recognise the character."
   ]
  },
  {
   "cell_type": "markdown",
   "id": "03a5a6eb-068e-44c3-86e4-8801c83f8a5b",
   "metadata": {},
   "source": [
    "### Step 6, 9 & 9 - Training and Testing Phase"
   ]
  },
  {
   "cell_type": "markdown",
   "id": "bdac5de5-2c20-481f-824f-442f21d9e9f8",
   "metadata": {},
   "source": [
    "Logistic Regression"
   ]
  },
  {
   "cell_type": "code",
   "execution_count": 52,
   "id": "31276e3d-5309-4a3e-8f36-419c741b1794",
   "metadata": {},
   "outputs": [],
   "source": [
    "import time"
   ]
  },
  {
   "cell_type": "code",
   "execution_count": 53,
   "id": "3c3eae29-5300-40cc-9282-5a0d1431feba",
   "metadata": {},
   "outputs": [
    {
     "name": "stdout",
     "output_type": "stream",
     "text": [
      "Model's Accuracy : 0.8347932995235899\n",
      "Training Time : 8.87013053894043\n",
      "Predicting Time 0.03272724151611328\n",
      "CPU times: total: 13.4 s\n",
      "Wall time: 9.08 s\n"
     ]
    },
    {
     "name": "stderr",
     "output_type": "stream",
     "text": [
      "C:\\Users\\kolli\\anaconda3\\Lib\\site-packages\\sklearn\\linear_model\\_logistic.py:469: ConvergenceWarning: lbfgs failed to converge (status=1):\n",
      "STOP: TOTAL NO. of ITERATIONS REACHED LIMIT.\n",
      "\n",
      "Increase the number of iterations (max_iter) or scale the data as shown in:\n",
      "    https://scikit-learn.org/stable/modules/preprocessing.html\n",
      "Please also refer to the documentation for alternative solver options:\n",
      "    https://scikit-learn.org/stable/modules/linear_model.html#logistic-regression\n",
      "  n_iter_i = _check_optimize_result(\n"
     ]
    }
   ],
   "source": [
    "%%time \n",
    "\n",
    "from sklearn.linear_model import LogisticRegression\n",
    "from sklearn import metrics\n",
    "\n",
    "lr_classifier = LogisticRegression()\n",
    "\n",
    "start_time=time.time()\n",
    "lr_classifier.fit(X_train_transformed,y_train)\n",
    "end_time=time.time()\n",
    "lr_time=end_time-start_time\n",
    "\n",
    "start_time=time.time()\n",
    "y_test_predict=lr_classifier.predict(X_test_transformed)\n",
    "end_time=time.time()\n",
    "lr_predict_time=end_time-start_time\n",
    "lr_score=metrics.accuracy_score(y_test,y_test_predict)\n",
    "\n",
    "print(\"Model's Accuracy :\", lr_score)\n",
    "print(\"Training Time :\",lr_time)\n",
    "print(\"Predicting Time\",lr_predict_time)"
   ]
  },
  {
   "cell_type": "markdown",
   "id": "05481e20-710a-4e85-a5b6-d9b53fb70209",
   "metadata": {},
   "source": [
    "### Naive Baye's"
   ]
  },
  {
   "cell_type": "code",
   "execution_count": 54,
   "id": "e1fb30ff-613b-4b31-927c-ad39c040ba41",
   "metadata": {},
   "outputs": [
    {
     "name": "stdout",
     "output_type": "stream",
     "text": [
      "Model's Accuracy : 0.702166897187644\n",
      "Training Time : 0.20467877388000488\n",
      "Predicting Time 0.025029420852661133\n",
      "CPU times: total: 93.8 ms\n",
      "Wall time: 246 ms\n"
     ]
    }
   ],
   "source": [
    "%%time \n",
    "\n",
    "from sklearn.naive_bayes import MultinomialNB\n",
    "from sklearn import metrics\n",
    "\n",
    "nb_classifier = MultinomialNB()\n",
    "start_time=time.time()\n",
    "nb_classifier.fit(X_train_transformed,y_train)\n",
    "end_time=time.time()\n",
    "nb_time=end_time-start_time\n",
    "\n",
    "start_time=time.time()\n",
    "y_test_predict=nb_classifier.predict(X_test_transformed)\n",
    "end_time=time.time()\n",
    "nb_predict_time=end_time-start_time\n",
    "\n",
    "nb_score=metrics.accuracy_score(y_test,y_test_predict)\n",
    "\n",
    "print(\"Model's Accuracy :\", nb_score)\n",
    "print(\"Training Time :\",nb_time)\n",
    "print(\"Predicting Time\",nb_predict_time)"
   ]
  },
  {
   "cell_type": "markdown",
   "id": "fcca1314-3f19-4d23-8b97-538f08a2b948",
   "metadata": {},
   "source": [
    "#### Decision Tree"
   ]
  },
  {
   "cell_type": "code",
   "execution_count": 55,
   "id": "9b748265-8740-4179-991e-39404c79486c",
   "metadata": {},
   "outputs": [
    {
     "name": "stdout",
     "output_type": "stream",
     "text": [
      "Model's Accuracy : 0.7017058552328261\n",
      "Training Time : 12.250192403793335\n",
      "Predicting Time 0.0409693717956543\n",
      "CPU times: total: 6.27 s\n",
      "Wall time: 12.5 s\n"
     ]
    }
   ],
   "source": [
    "%%time \n",
    "\n",
    "from sklearn.tree import DecisionTreeClassifier\n",
    "from sklearn import metrics\n",
    "\n",
    "dt_classifier = DecisionTreeClassifier()\n",
    "start_time=time.time()\n",
    "dt_classifier.fit(X_train_transformed,y_train)\n",
    "end_time=time.time()\n",
    "dt_time=end_time-start_time\n",
    "\n",
    "start_time=time.time()\n",
    "y_test_predict=dt_classifier.predict(X_test_transformed)\n",
    "end_time=time.time()\n",
    "dt_predict_time=end_time-start_time\n",
    "\n",
    "dt_score=metrics.accuracy_score(y_test,y_test_predict)\n",
    "\n",
    "print(\"Model's Accuracy :\", dt_score)\n",
    "print(\"Training Time :\",dt_time)\n",
    "print(\"Predicting Time\",dt_predict_time)"
   ]
  },
  {
   "cell_type": "markdown",
   "id": "09ffb318-4ba4-4a7f-bcf9-170f62212a45",
   "metadata": {},
   "source": [
    "#### 2. Show me the comparison of various ML models."
   ]
  },
  {
   "cell_type": "code",
   "execution_count": 56,
   "id": "1eaad68e-1052-4c20-aeb2-09210f6fbbb1",
   "metadata": {},
   "outputs": [
    {
     "data": {
      "text/html": [
       "<div>\n",
       "<style scoped>\n",
       "    .dataframe tbody tr th:only-of-type {\n",
       "        vertical-align: middle;\n",
       "    }\n",
       "\n",
       "    .dataframe tbody tr th {\n",
       "        vertical-align: top;\n",
       "    }\n",
       "\n",
       "    .dataframe thead th {\n",
       "        text-align: right;\n",
       "    }\n",
       "</style>\n",
       "<table border=\"1\" class=\"dataframe\">\n",
       "  <thead>\n",
       "    <tr style=\"text-align: right;\">\n",
       "      <th></th>\n",
       "      <th>Model</th>\n",
       "      <th>Accuracy</th>\n",
       "      <th>Training Time</th>\n",
       "      <th>Prediction Time</th>\n",
       "    </tr>\n",
       "  </thead>\n",
       "  <tbody>\n",
       "    <tr>\n",
       "      <th>0</th>\n",
       "      <td>Logistic Regression</td>\n",
       "      <td>0.834793</td>\n",
       "      <td>8.870131</td>\n",
       "      <td>0.032727</td>\n",
       "    </tr>\n",
       "    <tr>\n",
       "      <th>1</th>\n",
       "      <td>Naive Bayes</td>\n",
       "      <td>0.702167</td>\n",
       "      <td>0.204679</td>\n",
       "      <td>0.025029</td>\n",
       "    </tr>\n",
       "    <tr>\n",
       "      <th>2</th>\n",
       "      <td>Decision Tree</td>\n",
       "      <td>0.701706</td>\n",
       "      <td>12.250192</td>\n",
       "      <td>0.040969</td>\n",
       "    </tr>\n",
       "  </tbody>\n",
       "</table>\n",
       "</div>"
      ],
      "text/plain": [
       "                 Model  Accuracy  Training Time  Prediction Time\n",
       "0  Logistic Regression  0.834793       8.870131         0.032727\n",
       "1          Naive Bayes  0.702167       0.204679         0.025029\n",
       "2        Decision Tree  0.701706      12.250192         0.040969"
      ]
     },
     "execution_count": 56,
     "metadata": {},
     "output_type": "execute_result"
    }
   ],
   "source": [
    "data={\"Model\":[\"Logistic Regression\", \"Naive Bayes\", \"Decision Tree\"],\n",
    "      \"Accuracy\":[lr_score, nb_score, dt_score],\n",
    "      \"Training Time\": [lr_time, nb_time, dt_time],\n",
    "      \"Prediction Time\": [lr_predict_time, nb_predict_time, dt_predict_time]}\n",
    "\n",
    "model_df = pd.DataFrame(data)\n",
    "model_df"
   ]
  },
  {
   "cell_type": "code",
   "execution_count": 57,
   "id": "fb0d321a-f1a8-4893-862e-80c2597f4ba1",
   "metadata": {},
   "outputs": [
    {
     "data": {
      "text/plain": [
       "<Axes: xlabel='Model', ylabel='Accuracy'>"
      ]
     },
     "execution_count": 57,
     "metadata": {},
     "output_type": "execute_result"
    },
    {
     "data": {
      "image/png": "[encoded data removed]",
      "text/plain": [
       "<Figure size 640x480 with 1 Axes>"
      ]
     },
     "metadata": {},
     "output_type": "display_data"
    }
   ],
   "source": [
    "sns.barplot(data=model_df, x='Model', y='Accuracy')"
   ]
  },
  {
   "cell_type": "code",
   "execution_count": 58,
   "id": "f3c7bea2-7f34-4f44-8508-f63522321bd0",
   "metadata": {},
   "outputs": [
    {
     "data": {
      "image/png": "[encoded data removed]",
      "text/plain": [
       "<Figure size 1800x500 with 2 Axes>"
      ]
     },
     "metadata": {},
     "output_type": "display_data"
    }
   ],
   "source": [
    "# Plotting\n",
    "fig, axs = plt.subplots(1, 2, figsize=(18, 5))\n",
    "\n",
    "# Training Time\n",
    "sns.barplot(data=model_df, x=\"Model\", y=\"Training Time\", ax=axs[0])\n",
    "axs[0].set_title(\"Training Time\")\n",
    "for p in axs[0].patches:\n",
    "    axs[0].annotate(f'{p.get_height():.2f}',\n",
    "                    (p.get_x() + p.get_width() / 2., p.get_height()),\n",
    "                    ha='center', va='center',\n",
    "                    xytext=(0, 9),\n",
    "                    textcoords='offset points')\n",
    "\n",
    "# Prediction Time\n",
    "sns.barplot(data=model_df, x=\"Model\", y=\"Prediction Time\", ax=axs[1])\n",
    "axs[1].set_title(\"Prediction Time\")\n",
    "for p in axs[1].patches:\n",
    "    axs[1].annotate(f'{p.get_height():.2f}',\n",
    "                    (p.get_x() + p.get_width() / 2., p.get_height()),\n",
    "                    ha='center', va='center',\n",
    "                    xytext=(0, 9),\n",
    "                    textcoords='offset points')\n",
    "\n",
    "# Set the same y-axis scale for both Training Time and Prediction Time\n",
    "y_min = min(model_df[\"Training Time\"].min(), model_df[\"Prediction Time\"].min())\n",
    "y_max = max(model_df[\"Training Time\"].max(), model_df[\"Prediction Time\"].max())\n",
    "\n",
    "axs[0].set_ylim([y_min, y_max])\n",
    "axs[1].set_ylim([y_min, y_max])\n",
    "\n",
    "# Show plot\n",
    "plt.show()"
   ]
  },
  {
   "cell_type": "markdown",
   "id": "e55323ca-cb7f-4ad4-99c3-cf794bff3f15",
   "metadata": {},
   "source": [
    "#### 3. Model should be light for deployment."
   ]
  },
  {
   "cell_type": "markdown",
   "id": "e0ce44af-8bd7-45ba-801e-b6dad900b2a8",
   "metadata": {},
   "source": [
    "#### Logistic Regression and Naive Baye's are generally light weight"
   ]
  },
  {
   "cell_type": "markdown",
   "id": "bd93b37b-3b7b-49ab-bb08-54320a2fbd57",
   "metadata": {},
   "source": [
    "#### 4. Model should have very less latency."
   ]
  },
  {
   "cell_type": "markdown",
   "id": "eeb2d4ec-b3de-4318-a9f4-dc3562f21a46",
   "metadata": {},
   "source": [
    "### Naive Bayes is taking less time to predict compared to other models. However, Logistic Regression is providing more accurate results compare to other and also having relatively low latency. Therefore, Logistic Regression model can be used for deployment"
   ]
  },
  {
   "cell_type": "code",
   "execution_count": null,
   "id": "d266671c-d1a8-4529-82bd-7ead48719b81",
   "metadata": {},
   "outputs": [],
   "source": []
  }
 ],
 "metadata": {
  "kernelspec": {
   "display_name": "Python 3 (ipykernel)",
   "language": "python",
   "name": "python3"
  },
  "language_info": {
   "codemirror_mode": {
    "name": "ipython",
    "version": 3
   },
   "file_extension": ".py",
   "mimetype": "text/x-python",
   "name": "python",
   "nbconvert_exporter": "python",
   "pygments_lexer": "ipython3",
   "version": "3.11.7"
  }
 },
 "nbformat": 4,
 "nbformat_minor": 5
}
